{
 "cells": [
  {
   "cell_type": "markdown",
   "metadata": {},
   "source": [
    "# Using SURFsara IoT platform for Sensemakers - demo #2\n",
    "\n",
    "This notebook shows how to:\n",
    "- access files in the shared volume\n",
    "- load CSV files into a pandas DataFrame\n",
    "- perform simple data manipulations\n",
    "- inspect data\n",
    "- produce plots\n",
    "- store results in the project volume for later use"
   ]
  },
  {
   "cell_type": "markdown",
   "metadata": {},
   "source": [
    "## Accessing files in the shared volume\n",
    "\n",
    "The messages processed by the automated data pipeline are written into the shared volume. The individual messages are appended to files for a given project/device and a calendar date. Every night, a summary CSV file is written for each project with the naming convention `/data/app_id/app_id-YYYY-MM-DD.json`. The shared volume is accessible from Jupyter notebooks in read-only mode under `/home/shared`.\n",
    "\n",
    "The files in the shared volume can be listed in the following way:"
   ]
  },
  {
   "cell_type": "code",
   "execution_count": 1,
   "metadata": {},
   "outputs": [
    {
     "name": "stdout",
     "output_type": "stream",
     "text": [
      "/home/shared/WON/WON-2020-01-18.csv  /home/shared/WON/WON-2020-01-23.csv\n",
      "/home/shared/WON/WON-2020-01-19.csv  /home/shared/WON/WON-2020-01-24.csv\n",
      "/home/shared/WON/WON-2020-01-20.csv  /home/shared/WON/WON-2020-01-25.csv\n",
      "/home/shared/WON/WON-2020-01-21.csv  /home/shared/WON/WON-2020-01-26.csv\n",
      "/home/shared/WON/WON-2020-01-22.csv\n"
     ]
    }
   ],
   "source": [
    "!ls /home/shared/WON/*.csv"
   ]
  },
  {
   "cell_type": "markdown",
   "metadata": {},
   "source": [
    "The files contain messages in the CSV format."
   ]
  },
  {
   "cell_type": "code",
   "execution_count": 2,
   "metadata": {},
   "outputs": [
    {
     "name": "stdout",
     "output_type": "stream",
     "text": [
      "app_id,dev_id,time,hum,temp,datetime\n",
      "WON,SMA-A429B0,1579384632113,41,24,2020-01-18 21:57:12.113\n",
      "WON,SMA-A429B0,1579384663061,41,24,2020-01-18 21:57:43.061\n",
      "WON,SMA-A429B0,1579384693615,41,24,2020-01-18 21:58:13.615\n",
      "WON,SMA-A429B0,1579384724612,45,25,2020-01-18 21:58:44.612\n",
      "WON,SMA-A429B0,1579384755529,45,25,2020-01-18 21:59:15.529\n",
      "WON,SMA-A429B0,1579384774964,41,25,2020-01-18 21:59:34.964\n",
      "WON,SMA-A429B0,1579384805745,42,25,2020-01-18 22:00:05.745\n",
      "WON,SMA-A429B0,1579384836615,42,24,2020-01-18 22:00:36.615\n",
      "WON,SMA-A429B0,1579384867263,42,24,2020-01-18 22:01:07.263\n"
     ]
    }
   ],
   "source": [
    "!head /home/shared/WON/WON-2020-01-18.csv"
   ]
  },
  {
   "cell_type": "markdown",
   "metadata": {},
   "source": [
    "## Load data from the CSV files into a pandas DataFrame\n",
    "\n",
    "We choose to use [pandas](https://pandas.pydata.org/) DataFrame - a popular framework for analysing data. First, we need to install the corresponding Python package."
   ]
  },
  {
   "cell_type": "code",
   "execution_count": 3,
   "metadata": {},
   "outputs": [
    {
     "name": "stdout",
     "output_type": "stream",
     "text": [
      "Requirement already up-to-date: pip in /opt/conda/lib/python3.6/site-packages (20.0.2)\n",
      "Requirement already satisfied: pandas in /opt/conda/lib/python3.6/site-packages (0.25.3)\n",
      "Requirement already satisfied: numpy>=1.13.3 in /opt/conda/lib/python3.6/site-packages (from pandas) (1.18.1)\n",
      "Requirement already satisfied: pytz>=2017.2 in /opt/conda/lib/python3.6/site-packages (from pandas) (2019.3)\n",
      "Requirement already satisfied: python-dateutil>=2.6.1 in /opt/conda/lib/python3.6/site-packages (from pandas) (2.7.3)\n",
      "Requirement already satisfied: six>=1.5 in /opt/conda/lib/python3.6/site-packages (from python-dateutil>=2.6.1->pandas) (1.11.0)\n"
     ]
    }
   ],
   "source": [
    "!pip install --upgrade pip\n",
    "!pip install pandas"
   ]
  },
  {
   "cell_type": "markdown",
   "metadata": {},
   "source": [
    "A file from the shared volume can be loaded into a datafrime like this with a single command:"
   ]
  },
  {
   "cell_type": "code",
   "execution_count": 4,
   "metadata": {},
   "outputs": [
    {
     "data": {
      "text/html": [
       "<div>\n",
       "<style scoped>\n",
       "    .dataframe tbody tr th:only-of-type {\n",
       "        vertical-align: middle;\n",
       "    }\n",
       "\n",
       "    .dataframe tbody tr th {\n",
       "        vertical-align: top;\n",
       "    }\n",
       "\n",
       "    .dataframe thead th {\n",
       "        text-align: right;\n",
       "    }\n",
       "</style>\n",
       "<table border=\"1\" class=\"dataframe\">\n",
       "  <thead>\n",
       "    <tr style=\"text-align: right;\">\n",
       "      <th></th>\n",
       "      <th>app_id</th>\n",
       "      <th>dev_id</th>\n",
       "      <th>time</th>\n",
       "      <th>hum</th>\n",
       "      <th>temp</th>\n",
       "    </tr>\n",
       "    <tr>\n",
       "      <th>datetime</th>\n",
       "      <th></th>\n",
       "      <th></th>\n",
       "      <th></th>\n",
       "      <th></th>\n",
       "      <th></th>\n",
       "    </tr>\n",
       "  </thead>\n",
       "  <tbody>\n",
       "    <tr>\n",
       "      <th>2020-01-18 21:57:12.113</th>\n",
       "      <td>WON</td>\n",
       "      <td>SMA-A429B0</td>\n",
       "      <td>1579384632113</td>\n",
       "      <td>41</td>\n",
       "      <td>24</td>\n",
       "    </tr>\n",
       "    <tr>\n",
       "      <th>2020-01-18 21:57:43.061</th>\n",
       "      <td>WON</td>\n",
       "      <td>SMA-A429B0</td>\n",
       "      <td>1579384663061</td>\n",
       "      <td>41</td>\n",
       "      <td>24</td>\n",
       "    </tr>\n",
       "    <tr>\n",
       "      <th>2020-01-18 21:58:13.615</th>\n",
       "      <td>WON</td>\n",
       "      <td>SMA-A429B0</td>\n",
       "      <td>1579384693615</td>\n",
       "      <td>41</td>\n",
       "      <td>24</td>\n",
       "    </tr>\n",
       "    <tr>\n",
       "      <th>2020-01-18 21:58:44.612</th>\n",
       "      <td>WON</td>\n",
       "      <td>SMA-A429B0</td>\n",
       "      <td>1579384724612</td>\n",
       "      <td>45</td>\n",
       "      <td>25</td>\n",
       "    </tr>\n",
       "    <tr>\n",
       "      <th>2020-01-18 21:59:15.529</th>\n",
       "      <td>WON</td>\n",
       "      <td>SMA-A429B0</td>\n",
       "      <td>1579384755529</td>\n",
       "      <td>45</td>\n",
       "      <td>25</td>\n",
       "    </tr>\n",
       "    <tr>\n",
       "      <th>...</th>\n",
       "      <td>...</td>\n",
       "      <td>...</td>\n",
       "      <td>...</td>\n",
       "      <td>...</td>\n",
       "      <td>...</td>\n",
       "    </tr>\n",
       "    <tr>\n",
       "      <th>2020-01-18 23:57:45.862</th>\n",
       "      <td>WON</td>\n",
       "      <td>SMA-A429B0</td>\n",
       "      <td>1579391865862</td>\n",
       "      <td>40</td>\n",
       "      <td>23</td>\n",
       "    </tr>\n",
       "    <tr>\n",
       "      <th>2020-01-18 23:58:16.734</th>\n",
       "      <td>WON</td>\n",
       "      <td>SMA-A429B0</td>\n",
       "      <td>1579391896734</td>\n",
       "      <td>40</td>\n",
       "      <td>23</td>\n",
       "    </tr>\n",
       "    <tr>\n",
       "      <th>2020-01-18 23:58:47.400</th>\n",
       "      <td>WON</td>\n",
       "      <td>SMA-A429B0</td>\n",
       "      <td>1579391927400</td>\n",
       "      <td>40</td>\n",
       "      <td>23</td>\n",
       "    </tr>\n",
       "    <tr>\n",
       "      <th>2020-01-18 23:59:18.285</th>\n",
       "      <td>WON</td>\n",
       "      <td>SMA-A429B0</td>\n",
       "      <td>1579391958285</td>\n",
       "      <td>40</td>\n",
       "      <td>23</td>\n",
       "    </tr>\n",
       "    <tr>\n",
       "      <th>2020-01-18 23:59:49.138</th>\n",
       "      <td>WON</td>\n",
       "      <td>SMA-A429B0</td>\n",
       "      <td>1579391989138</td>\n",
       "      <td>40</td>\n",
       "      <td>23</td>\n",
       "    </tr>\n",
       "  </tbody>\n",
       "</table>\n",
       "<p>223 rows × 5 columns</p>\n",
       "</div>"
      ],
      "text/plain": [
       "                        app_id      dev_id           time  hum  temp\n",
       "datetime                                                            \n",
       "2020-01-18 21:57:12.113    WON  SMA-A429B0  1579384632113   41    24\n",
       "2020-01-18 21:57:43.061    WON  SMA-A429B0  1579384663061   41    24\n",
       "2020-01-18 21:58:13.615    WON  SMA-A429B0  1579384693615   41    24\n",
       "2020-01-18 21:58:44.612    WON  SMA-A429B0  1579384724612   45    25\n",
       "2020-01-18 21:59:15.529    WON  SMA-A429B0  1579384755529   45    25\n",
       "...                        ...         ...            ...  ...   ...\n",
       "2020-01-18 23:57:45.862    WON  SMA-A429B0  1579391865862   40    23\n",
       "2020-01-18 23:58:16.734    WON  SMA-A429B0  1579391896734   40    23\n",
       "2020-01-18 23:58:47.400    WON  SMA-A429B0  1579391927400   40    23\n",
       "2020-01-18 23:59:18.285    WON  SMA-A429B0  1579391958285   40    23\n",
       "2020-01-18 23:59:49.138    WON  SMA-A429B0  1579391989138   40    23\n",
       "\n",
       "[223 rows x 5 columns]"
      ]
     },
     "execution_count": 4,
     "metadata": {},
     "output_type": "execute_result"
    }
   ],
   "source": [
    "import pandas as pd\n",
    "\n",
    "# Load a single CSV file into a Pandas DataFrame.\n",
    "df = pd.read_csv('/home/shared/WON/WON-2020-01-18.csv', parse_dates=[\"datetime\"], index_col=\"datetime\")\n",
    "\n",
    "# Show the datafame.\n",
    "df"
   ]
  },
  {
   "cell_type": "markdown",
   "metadata": {},
   "source": [
    "Multiple files can be loaded like this:"
   ]
  },
  {
   "cell_type": "code",
   "execution_count": 5,
   "metadata": {},
   "outputs": [
    {
     "data": {
      "text/html": [
       "<div>\n",
       "<style scoped>\n",
       "    .dataframe tbody tr th:only-of-type {\n",
       "        vertical-align: middle;\n",
       "    }\n",
       "\n",
       "    .dataframe tbody tr th {\n",
       "        vertical-align: top;\n",
       "    }\n",
       "\n",
       "    .dataframe thead th {\n",
       "        text-align: right;\n",
       "    }\n",
       "</style>\n",
       "<table border=\"1\" class=\"dataframe\">\n",
       "  <thead>\n",
       "    <tr style=\"text-align: right;\">\n",
       "      <th></th>\n",
       "      <th>app_id</th>\n",
       "      <th>dev_id</th>\n",
       "      <th>time</th>\n",
       "      <th>CO2</th>\n",
       "      <th>hum</th>\n",
       "      <th>light</th>\n",
       "      <th>meas_time</th>\n",
       "      <th>temp</th>\n",
       "      <th>watertemp</th>\n",
       "    </tr>\n",
       "    <tr>\n",
       "      <th>datetime</th>\n",
       "      <th></th>\n",
       "      <th></th>\n",
       "      <th></th>\n",
       "      <th></th>\n",
       "      <th></th>\n",
       "      <th></th>\n",
       "      <th></th>\n",
       "      <th></th>\n",
       "      <th></th>\n",
       "    </tr>\n",
       "  </thead>\n",
       "  <tbody>\n",
       "    <tr>\n",
       "      <th>2020-01-18 21:57:12.113</th>\n",
       "      <td>WON</td>\n",
       "      <td>SMA-A429B0</td>\n",
       "      <td>1579384632113</td>\n",
       "      <td>NaN</td>\n",
       "      <td>41.000000</td>\n",
       "      <td>NaN</td>\n",
       "      <td>NaN</td>\n",
       "      <td>24.0</td>\n",
       "      <td>NaN</td>\n",
       "    </tr>\n",
       "    <tr>\n",
       "      <th>2020-01-18 21:57:43.061</th>\n",
       "      <td>WON</td>\n",
       "      <td>SMA-A429B0</td>\n",
       "      <td>1579384663061</td>\n",
       "      <td>NaN</td>\n",
       "      <td>41.000000</td>\n",
       "      <td>NaN</td>\n",
       "      <td>NaN</td>\n",
       "      <td>24.0</td>\n",
       "      <td>NaN</td>\n",
       "    </tr>\n",
       "    <tr>\n",
       "      <th>2020-01-18 21:58:13.615</th>\n",
       "      <td>WON</td>\n",
       "      <td>SMA-A429B0</td>\n",
       "      <td>1579384693615</td>\n",
       "      <td>NaN</td>\n",
       "      <td>41.000000</td>\n",
       "      <td>NaN</td>\n",
       "      <td>NaN</td>\n",
       "      <td>24.0</td>\n",
       "      <td>NaN</td>\n",
       "    </tr>\n",
       "    <tr>\n",
       "      <th>2020-01-18 21:58:44.612</th>\n",
       "      <td>WON</td>\n",
       "      <td>SMA-A429B0</td>\n",
       "      <td>1579384724612</td>\n",
       "      <td>NaN</td>\n",
       "      <td>45.000000</td>\n",
       "      <td>NaN</td>\n",
       "      <td>NaN</td>\n",
       "      <td>25.0</td>\n",
       "      <td>NaN</td>\n",
       "    </tr>\n",
       "    <tr>\n",
       "      <th>2020-01-18 21:59:15.529</th>\n",
       "      <td>WON</td>\n",
       "      <td>SMA-A429B0</td>\n",
       "      <td>1579384755529</td>\n",
       "      <td>NaN</td>\n",
       "      <td>45.000000</td>\n",
       "      <td>NaN</td>\n",
       "      <td>NaN</td>\n",
       "      <td>25.0</td>\n",
       "      <td>NaN</td>\n",
       "    </tr>\n",
       "    <tr>\n",
       "      <th>...</th>\n",
       "      <td>...</td>\n",
       "      <td>...</td>\n",
       "      <td>...</td>\n",
       "      <td>...</td>\n",
       "      <td>...</td>\n",
       "      <td>...</td>\n",
       "      <td>...</td>\n",
       "      <td>...</td>\n",
       "      <td>...</td>\n",
       "    </tr>\n",
       "    <tr>\n",
       "      <th>2020-01-26 23:55:05.570</th>\n",
       "      <td>WON</td>\n",
       "      <td>AstroPlantExplorer.Ted</td>\n",
       "      <td>1580082905570</td>\n",
       "      <td>722.0</td>\n",
       "      <td>41.599998</td>\n",
       "      <td>0.833333</td>\n",
       "      <td>2020-01-27 00:55:04</td>\n",
       "      <td>21.6</td>\n",
       "      <td>20.750</td>\n",
       "    </tr>\n",
       "    <tr>\n",
       "      <th>2020-01-26 23:56:15.249</th>\n",
       "      <td>WON</td>\n",
       "      <td>AstroPlantExplorer.Ted</td>\n",
       "      <td>1580082975249</td>\n",
       "      <td>722.0</td>\n",
       "      <td>41.500000</td>\n",
       "      <td>0.833333</td>\n",
       "      <td>2020-01-27 00:56:13</td>\n",
       "      <td>21.6</td>\n",
       "      <td>20.750</td>\n",
       "    </tr>\n",
       "    <tr>\n",
       "      <th>2020-01-26 23:57:24.928</th>\n",
       "      <td>WON</td>\n",
       "      <td>AstroPlantExplorer.Ted</td>\n",
       "      <td>1580083044928</td>\n",
       "      <td>721.0</td>\n",
       "      <td>41.500000</td>\n",
       "      <td>0.833333</td>\n",
       "      <td>2020-01-27 00:57:23</td>\n",
       "      <td>21.6</td>\n",
       "      <td>20.750</td>\n",
       "    </tr>\n",
       "    <tr>\n",
       "      <th>2020-01-26 23:58:34.618</th>\n",
       "      <td>WON</td>\n",
       "      <td>AstroPlantExplorer.Ted</td>\n",
       "      <td>1580083114618</td>\n",
       "      <td>718.0</td>\n",
       "      <td>41.599998</td>\n",
       "      <td>0.833333</td>\n",
       "      <td>2020-01-27 00:58:33</td>\n",
       "      <td>21.6</td>\n",
       "      <td>20.812</td>\n",
       "    </tr>\n",
       "    <tr>\n",
       "      <th>2020-01-26 23:59:44.208</th>\n",
       "      <td>WON</td>\n",
       "      <td>AstroPlantExplorer.Ted</td>\n",
       "      <td>1580083184208</td>\n",
       "      <td>717.0</td>\n",
       "      <td>41.599998</td>\n",
       "      <td>0.833333</td>\n",
       "      <td>2020-01-27 00:59:42</td>\n",
       "      <td>21.6</td>\n",
       "      <td>20.750</td>\n",
       "    </tr>\n",
       "  </tbody>\n",
       "</table>\n",
       "<p>23027 rows × 9 columns</p>\n",
       "</div>"
      ],
      "text/plain": [
       "                        app_id                  dev_id           time    CO2  \\\n",
       "datetime                                                                       \n",
       "2020-01-18 21:57:12.113    WON              SMA-A429B0  1579384632113    NaN   \n",
       "2020-01-18 21:57:43.061    WON              SMA-A429B0  1579384663061    NaN   \n",
       "2020-01-18 21:58:13.615    WON              SMA-A429B0  1579384693615    NaN   \n",
       "2020-01-18 21:58:44.612    WON              SMA-A429B0  1579384724612    NaN   \n",
       "2020-01-18 21:59:15.529    WON              SMA-A429B0  1579384755529    NaN   \n",
       "...                        ...                     ...            ...    ...   \n",
       "2020-01-26 23:55:05.570    WON  AstroPlantExplorer.Ted  1580082905570  722.0   \n",
       "2020-01-26 23:56:15.249    WON  AstroPlantExplorer.Ted  1580082975249  722.0   \n",
       "2020-01-26 23:57:24.928    WON  AstroPlantExplorer.Ted  1580083044928  721.0   \n",
       "2020-01-26 23:58:34.618    WON  AstroPlantExplorer.Ted  1580083114618  718.0   \n",
       "2020-01-26 23:59:44.208    WON  AstroPlantExplorer.Ted  1580083184208  717.0   \n",
       "\n",
       "                               hum     light            meas_time  temp  \\\n",
       "datetime                                                                  \n",
       "2020-01-18 21:57:12.113  41.000000       NaN                  NaN  24.0   \n",
       "2020-01-18 21:57:43.061  41.000000       NaN                  NaN  24.0   \n",
       "2020-01-18 21:58:13.615  41.000000       NaN                  NaN  24.0   \n",
       "2020-01-18 21:58:44.612  45.000000       NaN                  NaN  25.0   \n",
       "2020-01-18 21:59:15.529  45.000000       NaN                  NaN  25.0   \n",
       "...                            ...       ...                  ...   ...   \n",
       "2020-01-26 23:55:05.570  41.599998  0.833333  2020-01-27 00:55:04  21.6   \n",
       "2020-01-26 23:56:15.249  41.500000  0.833333  2020-01-27 00:56:13  21.6   \n",
       "2020-01-26 23:57:24.928  41.500000  0.833333  2020-01-27 00:57:23  21.6   \n",
       "2020-01-26 23:58:34.618  41.599998  0.833333  2020-01-27 00:58:33  21.6   \n",
       "2020-01-26 23:59:44.208  41.599998  0.833333  2020-01-27 00:59:42  21.6   \n",
       "\n",
       "                         watertemp  \n",
       "datetime                            \n",
       "2020-01-18 21:57:12.113        NaN  \n",
       "2020-01-18 21:57:43.061        NaN  \n",
       "2020-01-18 21:58:13.615        NaN  \n",
       "2020-01-18 21:58:44.612        NaN  \n",
       "2020-01-18 21:59:15.529        NaN  \n",
       "...                            ...  \n",
       "2020-01-26 23:55:05.570     20.750  \n",
       "2020-01-26 23:56:15.249     20.750  \n",
       "2020-01-26 23:57:24.928     20.750  \n",
       "2020-01-26 23:58:34.618     20.812  \n",
       "2020-01-26 23:59:44.208     20.750  \n",
       "\n",
       "[23027 rows x 9 columns]"
      ]
     },
     "execution_count": 5,
     "metadata": {},
     "output_type": "execute_result"
    }
   ],
   "source": [
    "import glob\n",
    "\n",
    "# List all files for project WON.\n",
    "files = glob.glob('/home/shared/WON/*.csv')\n",
    "\n",
    "# Define an empty dataframe.\n",
    "df0 = pd.DataFrame()\n",
    "\n",
    "# Loop over all files and load them to the dataframe.\n",
    "for file in files:\n",
    "    tmp = pd.read_csv(file, parse_dates=[\"datetime\"], index_col=\"datetime\")\n",
    "    df0 = pd.concat([df0, tmp], axis=0, sort=False)\n",
    "\n",
    "# Sort by time.\n",
    "df0.sort_index(inplace=True)\n",
    "\n",
    "# Show the dataframe.\n",
    "df0"
   ]
  },
  {
   "cell_type": "markdown",
   "metadata": {},
   "source": [
    "The following commands may come handy for getting basic information about the dataframe."
   ]
  },
  {
   "cell_type": "code",
   "execution_count": 6,
   "metadata": {},
   "outputs": [
    {
     "name": "stdout",
     "output_type": "stream",
     "text": [
      "<class 'pandas.core.frame.DataFrame'>\n",
      "DatetimeIndex: 23027 entries, 2020-01-18 21:57:12.113000 to 2020-01-26 23:59:44.208000\n",
      "Data columns (total 9 columns):\n",
      "app_id       23027 non-null object\n",
      "dev_id       23027 non-null object\n",
      "time         23027 non-null int64\n",
      "CO2          5781 non-null float64\n",
      "hum          23024 non-null float64\n",
      "light        6576 non-null float64\n",
      "meas_time    5788 non-null object\n",
      "temp         23024 non-null float64\n",
      "watertemp    6576 non-null float64\n",
      "dtypes: float64(5), int64(1), object(3)\n",
      "memory usage: 1.8+ MB\n"
     ]
    }
   ],
   "source": [
    "df0.info()"
   ]
  },
  {
   "cell_type": "code",
   "execution_count": 7,
   "metadata": {},
   "outputs": [
    {
     "data": {
      "text/html": [
       "<div>\n",
       "<style scoped>\n",
       "    .dataframe tbody tr th:only-of-type {\n",
       "        vertical-align: middle;\n",
       "    }\n",
       "\n",
       "    .dataframe tbody tr th {\n",
       "        vertical-align: top;\n",
       "    }\n",
       "\n",
       "    .dataframe thead th {\n",
       "        text-align: right;\n",
       "    }\n",
       "</style>\n",
       "<table border=\"1\" class=\"dataframe\">\n",
       "  <thead>\n",
       "    <tr style=\"text-align: right;\">\n",
       "      <th></th>\n",
       "      <th>app_id</th>\n",
       "      <th>dev_id</th>\n",
       "      <th>time</th>\n",
       "      <th>CO2</th>\n",
       "      <th>hum</th>\n",
       "      <th>light</th>\n",
       "      <th>meas_time</th>\n",
       "      <th>temp</th>\n",
       "      <th>watertemp</th>\n",
       "    </tr>\n",
       "    <tr>\n",
       "      <th>datetime</th>\n",
       "      <th></th>\n",
       "      <th></th>\n",
       "      <th></th>\n",
       "      <th></th>\n",
       "      <th></th>\n",
       "      <th></th>\n",
       "      <th></th>\n",
       "      <th></th>\n",
       "      <th></th>\n",
       "    </tr>\n",
       "  </thead>\n",
       "  <tbody>\n",
       "    <tr>\n",
       "      <th>2020-01-18 21:57:12.113</th>\n",
       "      <td>WON</td>\n",
       "      <td>SMA-A429B0</td>\n",
       "      <td>1579384632113</td>\n",
       "      <td>NaN</td>\n",
       "      <td>41.0</td>\n",
       "      <td>NaN</td>\n",
       "      <td>NaN</td>\n",
       "      <td>24.0</td>\n",
       "      <td>NaN</td>\n",
       "    </tr>\n",
       "    <tr>\n",
       "      <th>2020-01-18 21:57:43.061</th>\n",
       "      <td>WON</td>\n",
       "      <td>SMA-A429B0</td>\n",
       "      <td>1579384663061</td>\n",
       "      <td>NaN</td>\n",
       "      <td>41.0</td>\n",
       "      <td>NaN</td>\n",
       "      <td>NaN</td>\n",
       "      <td>24.0</td>\n",
       "      <td>NaN</td>\n",
       "    </tr>\n",
       "    <tr>\n",
       "      <th>2020-01-18 21:58:13.615</th>\n",
       "      <td>WON</td>\n",
       "      <td>SMA-A429B0</td>\n",
       "      <td>1579384693615</td>\n",
       "      <td>NaN</td>\n",
       "      <td>41.0</td>\n",
       "      <td>NaN</td>\n",
       "      <td>NaN</td>\n",
       "      <td>24.0</td>\n",
       "      <td>NaN</td>\n",
       "    </tr>\n",
       "    <tr>\n",
       "      <th>2020-01-18 21:58:44.612</th>\n",
       "      <td>WON</td>\n",
       "      <td>SMA-A429B0</td>\n",
       "      <td>1579384724612</td>\n",
       "      <td>NaN</td>\n",
       "      <td>45.0</td>\n",
       "      <td>NaN</td>\n",
       "      <td>NaN</td>\n",
       "      <td>25.0</td>\n",
       "      <td>NaN</td>\n",
       "    </tr>\n",
       "    <tr>\n",
       "      <th>2020-01-18 21:59:15.529</th>\n",
       "      <td>WON</td>\n",
       "      <td>SMA-A429B0</td>\n",
       "      <td>1579384755529</td>\n",
       "      <td>NaN</td>\n",
       "      <td>45.0</td>\n",
       "      <td>NaN</td>\n",
       "      <td>NaN</td>\n",
       "      <td>25.0</td>\n",
       "      <td>NaN</td>\n",
       "    </tr>\n",
       "  </tbody>\n",
       "</table>\n",
       "</div>"
      ],
      "text/plain": [
       "                        app_id      dev_id           time  CO2   hum  light  \\\n",
       "datetime                                                                      \n",
       "2020-01-18 21:57:12.113    WON  SMA-A429B0  1579384632113  NaN  41.0    NaN   \n",
       "2020-01-18 21:57:43.061    WON  SMA-A429B0  1579384663061  NaN  41.0    NaN   \n",
       "2020-01-18 21:58:13.615    WON  SMA-A429B0  1579384693615  NaN  41.0    NaN   \n",
       "2020-01-18 21:58:44.612    WON  SMA-A429B0  1579384724612  NaN  45.0    NaN   \n",
       "2020-01-18 21:59:15.529    WON  SMA-A429B0  1579384755529  NaN  45.0    NaN   \n",
       "\n",
       "                        meas_time  temp  watertemp  \n",
       "datetime                                            \n",
       "2020-01-18 21:57:12.113       NaN  24.0        NaN  \n",
       "2020-01-18 21:57:43.061       NaN  24.0        NaN  \n",
       "2020-01-18 21:58:13.615       NaN  24.0        NaN  \n",
       "2020-01-18 21:58:44.612       NaN  25.0        NaN  \n",
       "2020-01-18 21:59:15.529       NaN  25.0        NaN  "
      ]
     },
     "execution_count": 7,
     "metadata": {},
     "output_type": "execute_result"
    }
   ],
   "source": [
    "# Show the first few lines of the dataframe.\n",
    "df0.head()"
   ]
  },
  {
   "cell_type": "code",
   "execution_count": 8,
   "metadata": {},
   "outputs": [
    {
     "data": {
      "text/plain": [
       "app_id        object\n",
       "dev_id        object\n",
       "time           int64\n",
       "CO2          float64\n",
       "hum          float64\n",
       "light        float64\n",
       "meas_time     object\n",
       "temp         float64\n",
       "watertemp    float64\n",
       "dtype: object"
      ]
     },
     "execution_count": 8,
     "metadata": {},
     "output_type": "execute_result"
    }
   ],
   "source": [
    "# Show the types of the columns.\n",
    "df0.dtypes"
   ]
  },
  {
   "cell_type": "markdown",
   "metadata": {},
   "source": [
    "## Simple data manipulations\n",
    "\n",
    "In the previous section, we loaded all raw data files in dataframe `df0`. In the following cell, we will create a new dataframe `df1` that will be handy for analysing."
   ]
  },
  {
   "cell_type": "code",
   "execution_count": 9,
   "metadata": {},
   "outputs": [],
   "source": [
    "df1 = df0"
   ]
  },
  {
   "cell_type": "markdown",
   "metadata": {},
   "source": [
    "## Data inspection\n",
    "\n",
    "In the previous section, we created dataframe `df1` that is convenient for analysis/inspection. In this section, we can start inspecting the data and perform some data cleaning.\n",
    "\n",
    "Basic statistics for the data from numeric columns can be shown like this:"
   ]
  },
  {
   "cell_type": "code",
   "execution_count": 10,
   "metadata": {},
   "outputs": [
    {
     "data": {
      "text/html": [
       "<div>\n",
       "<style scoped>\n",
       "    .dataframe tbody tr th:only-of-type {\n",
       "        vertical-align: middle;\n",
       "    }\n",
       "\n",
       "    .dataframe tbody tr th {\n",
       "        vertical-align: top;\n",
       "    }\n",
       "\n",
       "    .dataframe thead th {\n",
       "        text-align: right;\n",
       "    }\n",
       "</style>\n",
       "<table border=\"1\" class=\"dataframe\">\n",
       "  <thead>\n",
       "    <tr style=\"text-align: right;\">\n",
       "      <th></th>\n",
       "      <th>time</th>\n",
       "      <th>CO2</th>\n",
       "      <th>hum</th>\n",
       "      <th>light</th>\n",
       "      <th>temp</th>\n",
       "      <th>watertemp</th>\n",
       "    </tr>\n",
       "  </thead>\n",
       "  <tbody>\n",
       "    <tr>\n",
       "      <th>count</th>\n",
       "      <td>2.302700e+04</td>\n",
       "      <td>5781.000000</td>\n",
       "      <td>23024.000000</td>\n",
       "      <td>6576.000000</td>\n",
       "      <td>23024.000000</td>\n",
       "      <td>6576.000000</td>\n",
       "    </tr>\n",
       "    <tr>\n",
       "      <th>mean</th>\n",
       "      <td>1.579711e+12</td>\n",
       "      <td>150.387995</td>\n",
       "      <td>40.018172</td>\n",
       "      <td>57.824285</td>\n",
       "      <td>22.326229</td>\n",
       "      <td>19.832025</td>\n",
       "    </tr>\n",
       "    <tr>\n",
       "      <th>std</th>\n",
       "      <td>1.790512e+08</td>\n",
       "      <td>267.505195</td>\n",
       "      <td>3.575159</td>\n",
       "      <td>151.724804</td>\n",
       "      <td>1.768698</td>\n",
       "      <td>1.353683</td>\n",
       "    </tr>\n",
       "    <tr>\n",
       "      <th>min</th>\n",
       "      <td>1.579385e+12</td>\n",
       "      <td>0.000000</td>\n",
       "      <td>30.299999</td>\n",
       "      <td>0.000000</td>\n",
       "      <td>13.200000</td>\n",
       "      <td>14.875000</td>\n",
       "    </tr>\n",
       "    <tr>\n",
       "      <th>25%</th>\n",
       "      <td>1.579562e+12</td>\n",
       "      <td>0.000000</td>\n",
       "      <td>37.400002</td>\n",
       "      <td>0.833333</td>\n",
       "      <td>21.700001</td>\n",
       "      <td>19.437000</td>\n",
       "    </tr>\n",
       "    <tr>\n",
       "      <th>50%</th>\n",
       "      <td>1.579728e+12</td>\n",
       "      <td>0.000000</td>\n",
       "      <td>39.000000</td>\n",
       "      <td>0.833333</td>\n",
       "      <td>23.000000</td>\n",
       "      <td>19.937000</td>\n",
       "    </tr>\n",
       "    <tr>\n",
       "      <th>75%</th>\n",
       "      <td>1.579840e+12</td>\n",
       "      <td>430.000000</td>\n",
       "      <td>41.000000</td>\n",
       "      <td>73.333333</td>\n",
       "      <td>23.000000</td>\n",
       "      <td>20.562000</td>\n",
       "    </tr>\n",
       "    <tr>\n",
       "      <th>max</th>\n",
       "      <td>1.580083e+12</td>\n",
       "      <td>1195.000000</td>\n",
       "      <td>59.000000</td>\n",
       "      <td>3705.000000</td>\n",
       "      <td>26.000000</td>\n",
       "      <td>25.312000</td>\n",
       "    </tr>\n",
       "  </tbody>\n",
       "</table>\n",
       "</div>"
      ],
      "text/plain": [
       "               time          CO2           hum        light          temp  \\\n",
       "count  2.302700e+04  5781.000000  23024.000000  6576.000000  23024.000000   \n",
       "mean   1.579711e+12   150.387995     40.018172    57.824285     22.326229   \n",
       "std    1.790512e+08   267.505195      3.575159   151.724804      1.768698   \n",
       "min    1.579385e+12     0.000000     30.299999     0.000000     13.200000   \n",
       "25%    1.579562e+12     0.000000     37.400002     0.833333     21.700001   \n",
       "50%    1.579728e+12     0.000000     39.000000     0.833333     23.000000   \n",
       "75%    1.579840e+12   430.000000     41.000000    73.333333     23.000000   \n",
       "max    1.580083e+12  1195.000000     59.000000  3705.000000     26.000000   \n",
       "\n",
       "         watertemp  \n",
       "count  6576.000000  \n",
       "mean     19.832025  \n",
       "std       1.353683  \n",
       "min      14.875000  \n",
       "25%      19.437000  \n",
       "50%      19.937000  \n",
       "75%      20.562000  \n",
       "max      25.312000  "
      ]
     },
     "execution_count": 10,
     "metadata": {},
     "output_type": "execute_result"
    }
   ],
   "source": [
    "df1.describe()"
   ]
  },
  {
   "cell_type": "markdown",
   "metadata": {},
   "source": [
    "Remove data where CO2 = 0."
   ]
  },
  {
   "cell_type": "code",
   "execution_count": 11,
   "metadata": {},
   "outputs": [],
   "source": [
    "df2 = df1[df1[\"CO2\"] > 0]"
   ]
  },
  {
   "cell_type": "markdown",
   "metadata": {},
   "source": [
    "## Data visualisations\n",
    "\n",
    "We choose to use [matplotlib](https://matplotlib.org/) to draw graphs and histograms. First, we need to install the corresponding Python package."
   ]
  },
  {
   "cell_type": "code",
   "execution_count": 12,
   "metadata": {},
   "outputs": [
    {
     "name": "stdout",
     "output_type": "stream",
     "text": [
      "Requirement already satisfied: matplotlib in /opt/conda/lib/python3.6/site-packages (3.1.2)\n",
      "Requirement already satisfied: cycler>=0.10 in /opt/conda/lib/python3.6/site-packages (from matplotlib) (0.10.0)\n",
      "Requirement already satisfied: numpy>=1.11 in /opt/conda/lib/python3.6/site-packages (from matplotlib) (1.18.1)\n",
      "Requirement already satisfied: kiwisolver>=1.0.1 in /opt/conda/lib/python3.6/site-packages (from matplotlib) (1.1.0)\n",
      "Requirement already satisfied: pyparsing!=2.0.4,!=2.1.2,!=2.1.6,>=2.0.1 in /opt/conda/lib/python3.6/site-packages (from matplotlib) (2.4.6)\n",
      "Requirement already satisfied: python-dateutil>=2.1 in /opt/conda/lib/python3.6/site-packages (from matplotlib) (2.7.3)\n",
      "Requirement already satisfied: six in /opt/conda/lib/python3.6/site-packages (from cycler>=0.10->matplotlib) (1.11.0)\n",
      "Requirement already satisfied: setuptools in /opt/conda/lib/python3.6/site-packages (from kiwisolver>=1.0.1->matplotlib) (40.0.0)\n"
     ]
    }
   ],
   "source": [
    "!pip install matplotlib"
   ]
  },
  {
   "cell_type": "markdown",
   "metadata": {},
   "source": [
    "Make sure the plots will be produced directly in the notebook. This line is usually specified at the top of each notebook."
   ]
  },
  {
   "cell_type": "code",
   "execution_count": 13,
   "metadata": {},
   "outputs": [],
   "source": [
    "%matplotlib inline"
   ]
  },
  {
   "cell_type": "markdown",
   "metadata": {},
   "source": [
    "Plot histograms for humidity and temperature:"
   ]
  },
  {
   "cell_type": "code",
   "execution_count": 14,
   "metadata": {},
   "outputs": [
    {
     "data": {
      "image/png": "[encoded data removed]",
      "text/plain": [
       "<Figure size 432x288 with 1 Axes>"
      ]
     },
     "metadata": {},
     "output_type": "display_data"
    }
   ],
   "source": [
    "df2[\"hum\"].hist();"
   ]
  },
  {
   "cell_type": "code",
   "execution_count": 15,
   "metadata": {},
   "outputs": [
    {
     "data": {
      "image/png": "[encoded data removed]",
      "text/plain": [
       "<Figure size 432x288 with 1 Axes>"
      ]
     },
     "metadata": {},
     "output_type": "display_data"
    }
   ],
   "source": [
    "df2[\"temp\"].hist();"
   ]
  },
  {
   "cell_type": "markdown",
   "metadata": {},
   "source": [
    "The temperature histogram confirms there are outliers with high values. They cannot be seen by eye in the linear y-axis scale, they will only become apparent in a histogram with the logarithmic y-axis."
   ]
  },
  {
   "cell_type": "markdown",
   "metadata": {},
   "source": [
    "Box plots are useful show the basic statistics for the distributions, similar to what we achieved with `df.describe` previously."
   ]
  },
  {
   "cell_type": "code",
   "execution_count": 16,
   "metadata": {},
   "outputs": [
    {
     "data": {
      "image/png": "[encoded data removed]",
      "text/plain": [
       "<Figure size 432x288 with 1 Axes>"
      ]
     },
     "metadata": {},
     "output_type": "display_data"
    }
   ],
   "source": [
    "df2[[\"hum\", \"temp\"]].plot.box();"
   ]
  },
  {
   "cell_type": "markdown",
   "metadata": {},
   "source": [
    "The temperature can be plotted against time like this:"
   ]
  },
  {
   "cell_type": "code",
   "execution_count": 17,
   "metadata": {},
   "outputs": [
    {
     "data": {
      "image/png": "[encoded data removed]",
      "text/plain": [
       "<Figure size 432x288 with 1 Axes>"
      ]
     },
     "metadata": {},
     "output_type": "display_data"
    }
   ],
   "source": [
    "df2.plot(y=[\"temp\", \"watertemp\"]);"
   ]
  },
  {
   "cell_type": "markdown",
   "metadata": {},
   "source": [
    "## Store results in the project volume\n",
    "\n",
    "After data investigations/analysis in a notebook, we may want to save our results (data or plots) for later use/as a reference. This is what the project volume is for.\n",
    "\n",
    "The example below shows how to save a plot of the humidity measurements after 26/01/2020 as a pdf file. The file can be downloaded from the file browser on the left."
   ]
  },
  {
   "cell_type": "code",
   "execution_count": 18,
   "metadata": {},
   "outputs": [
    {
     "data": {
      "image/png": "[encoded data removed]",
      "text/plain": [
       "<Figure size 432x288 with 1 Axes>"
      ]
     },
     "metadata": {},
     "output_type": "display_data"
    }
   ],
   "source": [
    "plot = df2[df2.index > '2020-01-26'].plot(y=\"hum\")\n",
    "plot.get_figure().savefig('humidity.pdf', format='pdf')"
   ]
  },
  {
   "cell_type": "code",
   "execution_count": null,
   "metadata": {},
   "outputs": [],
   "source": []
  }
 ],
 "metadata": {
  "kernelspec": {
   "display_name": "Python 3",
   "language": "python",
   "name": "python3"
  },
  "language_info": {
   "codemirror_mode": {
    "name": "ipython",
    "version": 3
   },
   "file_extension": ".py",
   "mimetype": "text/x-python",
   "name": "python",
   "nbconvert_exporter": "python",
   "pygments_lexer": "ipython3",
   "version": "3.6.5"
  }
 },
 "nbformat": 4,
 "nbformat_minor": 2
}
