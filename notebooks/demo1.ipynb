{
 "cells": [
  {
   "cell_type": "markdown",
   "metadata": {},
   "source": [
    "# Using SURFsara IoT platform for Sensemakers - demo #1\n",
    "\n",
    "This notebook shows how to:\n",
    "- access files in the shared volume\n",
    "- load raw data JSON files into a Pandas DataFrame\n",
    "- perform simple data manipulations\n",
    "- inspect data\n",
    "- produce plots\n",
    "- store results in the project volume for later use"
   ]
  },
  {
   "cell_type": "markdown",
   "metadata": {},
   "source": [
    "## Accessing files in the shared volume\n",
    "\n",
    "The individual messages processed by the automated data pipeline are appended to files for a given project/device and a calendar date. The naming convention for the directories/files is `/data/app_id/dev_id-YYYY-MM-DD.json`. The shared volume is accessible from Jupyter notebooks in read-only mode.\n",
    "\n",
    "The files in the shared volume can be listed in the following way:"
   ]
  },
  {
   "cell_type": "code",
   "execution_count": null,
   "metadata": {},
   "outputs": [],
   "source": [
    "!ls /home/shared/WON/SMA-A42924*"
   ]
  },
  {
   "cell_type": "markdown",
   "metadata": {},
   "source": [
    "The files contain raw messages in the JSON format line-by-line."
   ]
  },
  {
   "cell_type": "code",
   "execution_count": null,
   "metadata": {},
   "outputs": [],
   "source": [
    "!head /home/shared/WON/SMA-A42924-2019-10-09.json"
   ]
  },
  {
   "cell_type": "markdown",
   "metadata": {},
   "source": [
    "## Load raw data JSON files into a pandas DataFrame\n",
    "\n",
    "We choose to use [pandas](https://pandas.pydata.org/) DataFrame to analyse data. First, we need to install corresponding Python package."
   ]
  },
  {
   "cell_type": "code",
   "execution_count": null,
   "metadata": {},
   "outputs": [],
   "source": [
    "!pip install --upgrade pip\n",
    "!pip install pandas"
   ]
  },
  {
   "cell_type": "markdown",
   "metadata": {},
   "source": [
    "A file from the shared volume can be loaded like this with a single command."
   ]
  },
  {
   "cell_type": "code",
   "execution_count": null,
   "metadata": {},
   "outputs": [],
   "source": [
    "import pandas as pd\n",
    "\n",
    "# Load a single JSON file into a Pandas DataFrame.\n",
    "df = pd.read_json('/home/shared/WON/SMA-A42924-2019-10-09.json', lines=True)\n",
    "\n",
    "# Show the datafame.\n",
    "df"
   ]
  },
  {
   "cell_type": "markdown",
   "metadata": {},
   "source": [
    "Multiple files can be loaded like this:"
   ]
  },
  {
   "cell_type": "code",
   "execution_count": null,
   "metadata": {},
   "outputs": [],
   "source": [
    "import glob\n",
    "\n",
    "# List all files for project WON and device SMA-A42924.\n",
    "files = glob.glob('/home/shared/WON/SMA-A42924*')\n",
    "\n",
    "# Define an empty dataframe.\n",
    "df0 = pd.DataFrame()\n",
    "\n",
    "# Loop over all files and load them to the dataframe.\n",
    "for file in files:\n",
    "    tmp = pd.read_json(file, lines=True)\n",
    "    df0 = df0.append(tmp, ignore_index=True)\n",
    "    \n",
    "# Show the dataframe.\n",
    "df0"
   ]
  },
  {
   "cell_type": "markdown",
   "metadata": {},
   "source": [
    "The following commands may come handy for getting basic information about the dataframe."
   ]
  },
  {
   "cell_type": "code",
   "execution_count": null,
   "metadata": {},
   "outputs": [],
   "source": [
    "df0.info()"
   ]
  },
  {
   "cell_type": "code",
   "execution_count": null,
   "metadata": {},
   "outputs": [],
   "source": [
    "# Show the first few lines of the dataframe.\n",
    "df0.head()"
   ]
  },
  {
   "cell_type": "code",
   "execution_count": null,
   "metadata": {},
   "outputs": [],
   "source": [
    "# Show the types of the columns.\n",
    "df0.dtypes"
   ]
  },
  {
   "cell_type": "markdown",
   "metadata": {},
   "source": [
    "## Simple data manipulations\n",
    "\n",
    "The dataframe we have loaded from the files in the cells above is not handy for data analytics yet. The most important values - the sensor measurements - are not easily accessible because they are all stored in a single column `payload_fields` as a dictionarly of key-value pairs. Therefore, we will reformat the dataframe such that every sensor measurement gets its own column.\n",
    "\n",
    "In the previous section, we loaded all raw data files in dataframe `df0`. In the following cell, we will create a new dataframe `df1` with the new columns."
   ]
  },
  {
   "cell_type": "code",
   "execution_count": null,
   "metadata": {},
   "outputs": [],
   "source": [
    "# Extract payload_fields as individual cloumns.\n",
    "payload_fields = df0['payload_fields'].apply(pd.Series)\n",
    "\n",
    "# Add the new columns to the dataframe.\n",
    "df1 = df0.join(payload_fields)\n",
    "\n",
    "# Remove the original column.\n",
    "df1 = df1.drop('payload_fields', axis=1)\n",
    "\n",
    "# Show the dataframe.\n",
    "df1"
   ]
  },
  {
   "cell_type": "code",
   "execution_count": null,
   "metadata": {},
   "outputs": [],
   "source": [
    "# Show the column types.\n",
    "df1.dtypes"
   ]
  },
  {
   "cell_type": "markdown",
   "metadata": {},
   "source": [
    "Convert the unix epoch time to human-readable time format."
   ]
  },
  {
   "cell_type": "code",
   "execution_count": null,
   "metadata": {},
   "outputs": [],
   "source": [
    "df1[\"datetime\"] = pd.to_datetime(df1[\"time\"], unit='ms')\n",
    "df1[\"datetime\"]"
   ]
  },
  {
   "cell_type": "markdown",
   "metadata": {},
   "source": [
    "## Data inspection\n",
    "\n",
    "In the previous section, we created dataframe `df1` that is convenient for analysis/inspection.\n",
    "\n",
    "Show basic statistics for the data in numeric columns."
   ]
  },
  {
   "cell_type": "code",
   "execution_count": null,
   "metadata": {},
   "outputs": [],
   "source": [
    "df1.describe()"
   ]
  },
  {
   "cell_type": "markdown",
   "metadata": {},
   "source": [
    "Show the messages with `fail` = 1."
   ]
  },
  {
   "cell_type": "code",
   "execution_count": null,
   "metadata": {},
   "outputs": [],
   "source": [
    "df1[df1[\"fail\"] == 1]"
   ]
  },
  {
   "cell_type": "markdown",
   "metadata": {},
   "source": [
    "Remove the messages with `fail` = 1."
   ]
  },
  {
   "cell_type": "code",
   "execution_count": null,
   "metadata": {},
   "outputs": [],
   "source": [
    "df2 = df1[df1[\"fail\"] != 1]"
   ]
  },
  {
   "cell_type": "markdown",
   "metadata": {},
   "source": [
    "## Data visualisations\n",
    "\n",
    "We choose to use [matplotlib](https://matplotlib.org/) to analyse data. First, we need to install corresponding Python package."
   ]
  },
  {
   "cell_type": "code",
   "execution_count": null,
   "metadata": {},
   "outputs": [],
   "source": [
    "!pip install matplotlib"
   ]
  },
  {
   "cell_type": "markdown",
   "metadata": {},
   "source": [
    "Make sure the plots will be produced directly in the notebook."
   ]
  },
  {
   "cell_type": "code",
   "execution_count": null,
   "metadata": {},
   "outputs": [],
   "source": [
    "%matplotlib inline"
   ]
  },
  {
   "cell_type": "markdown",
   "metadata": {},
   "source": [
    "Plot histograms."
   ]
  },
  {
   "cell_type": "code",
   "execution_count": null,
   "metadata": {},
   "outputs": [],
   "source": [
    "df2[\"hum\"].hist()"
   ]
  },
  {
   "cell_type": "code",
   "execution_count": null,
   "metadata": {},
   "outputs": [],
   "source": [
    "df2[\"temp\"].hist()"
   ]
  },
  {
   "cell_type": "markdown",
   "metadata": {},
   "source": [
    "The temperature histogram indicates there are outliers. This will become obvious in a histogram with logarithmic y-axis."
   ]
  },
  {
   "cell_type": "code",
   "execution_count": null,
   "metadata": {},
   "outputs": [],
   "source": [
    "import matplotlib.pyplot as plt\n",
    "\n",
    "plt.hist(df2['temp'], log=True) "
   ]
  },
  {
   "cell_type": "markdown",
   "metadata": {},
   "source": [
    "Box plots are also useful."
   ]
  },
  {
   "cell_type": "code",
   "execution_count": null,
   "metadata": {},
   "outputs": [],
   "source": [
    "df2[[\"hum\", \"temp\"]].plot.box()"
   ]
  },
  {
   "cell_type": "markdown",
   "metadata": {},
   "source": [
    "Remove outliers."
   ]
  },
  {
   "cell_type": "code",
   "execution_count": null,
   "metadata": {},
   "outputs": [],
   "source": [
    "df3 = df2[df2[\"temp\"] < 100]"
   ]
  },
  {
   "cell_type": "code",
   "execution_count": null,
   "metadata": {},
   "outputs": [],
   "source": [
    "df3.plot(x=\"datetime\", y=\"temp\")"
   ]
  },
  {
   "cell_type": "markdown",
   "metadata": {},
   "source": [
    "## Store results in the project volume\n",
    "\n",
    "Save the plot as a pdf file. The file can be downloaded from the file browser on the left."
   ]
  },
  {
   "cell_type": "code",
   "execution_count": null,
   "metadata": {},
   "outputs": [],
   "source": [
    "plot = df3.plot(x=\"datetime\", y=\"hum\")\n",
    "plot.get_figure().savefig('hum.pdf', format='pdf')"
   ]
  },
  {
   "cell_type": "code",
   "execution_count": null,
   "metadata": {},
   "outputs": [],
   "source": []
  }
 ],
 "metadata": {
  "kernelspec": {
   "display_name": "Python 3",
   "language": "python",
   "name": "python3"
  },
  "language_info": {
   "codemirror_mode": {
    "name": "ipython",
    "version": 3
   },
   "file_extension": ".py",
   "mimetype": "text/x-python",
   "name": "python",
   "nbconvert_exporter": "python",
   "pygments_lexer": "ipython3",
   "version": "3.6.5"
  }
 },
 "nbformat": 4,
 "nbformat_minor": 2
}
