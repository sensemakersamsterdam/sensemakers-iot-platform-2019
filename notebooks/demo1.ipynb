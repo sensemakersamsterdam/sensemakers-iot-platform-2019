{
 "cells": [
  {
   "cell_type": "markdown",
   "metadata": {},
   "source": [
    "# Using SURFsara IoT platform for Sensemakers - demo #1\n",
    "\n",
    "This notebook shows how to:\n",
    "- access files in the shared volume\n",
    "- load raw data JSON files into a Pandas DataFrame\n",
    "- perform simple data manipulations\n",
    "- inspect data\n",
    "- produce plots\n",
    "- store results in the project volume for later use"
   ]
  },
  {
   "cell_type": "markdown",
   "metadata": {},
   "source": [
    "## Accessing files in the shared volume\n",
    "\n",
    "The individual messages processed by the automated data pipeline are appended to files for a given project/device and a calendar date. The naming convention for the directories/files is `/data/app_id/dev_id-YYYY-MM-DD.json`. The shared volume is accessible from Jupyter notebooks in read-only mode.\n",
    "\n",
    "The files in the shared volume can be listed in the following way:"
   ]
  },
  {
   "cell_type": "code",
   "execution_count": 1,
   "metadata": {},
   "outputs": [
    {
     "name": "stdout",
     "output_type": "stream",
     "text": [
      "/home/shared/WON/SMA-A42924-2019-09-17.json\n",
      "/home/shared/WON/SMA-A42924-2019-09-18.json\n",
      "/home/shared/WON/SMA-A42924-2019-09-19.json\n",
      "/home/shared/WON/SMA-A42924-2019-09-20.json\n",
      "/home/shared/WON/SMA-A42924-2019-09-21.json\n",
      "/home/shared/WON/SMA-A42924-2019-09-22.json\n",
      "/home/shared/WON/SMA-A42924-2019-09-23.json\n",
      "/home/shared/WON/SMA-A42924-2019-09-24.json\n",
      "/home/shared/WON/SMA-A42924-2019-10-01.json\n",
      "/home/shared/WON/SMA-A42924-2019-10-04.json\n",
      "/home/shared/WON/SMA-A42924-2019-10-05.json\n",
      "/home/shared/WON/SMA-A42924-2019-10-06.json\n",
      "/home/shared/WON/SMA-A42924-2019-10-07.json\n",
      "/home/shared/WON/SMA-A42924-2019-10-08.json\n",
      "/home/shared/WON/SMA-A42924-2019-10-09.json\n"
     ]
    }
   ],
   "source": [
    "!ls /home/shared/WON/SMA-A42924*"
   ]
  },
  {
   "cell_type": "markdown",
   "metadata": {},
   "source": [
    "The files contain raw messages in the JSON format line-by-line."
   ]
  },
  {
   "cell_type": "code",
   "execution_count": 2,
   "metadata": {},
   "outputs": [
    {
     "name": "stdout",
     "output_type": "stream",
     "text": [
      "{\"app_id\": \"WON\", \"dev_id\": \"SMA-A42924\", \"payload_fields\": {\"hum\": 72, \"temp\": 13}, \"time\": 1570579212418}\n",
      "{\"app_id\": \"WON\", \"dev_id\": \"SMA-A42924\", \"payload_fields\": {\"hum\": 72, \"temp\": 13}, \"time\": 1570579243368}\n",
      "{\"app_id\": \"WON\", \"dev_id\": \"SMA-A42924\", \"payload_fields\": {\"hum\": 72, \"temp\": 13}, \"time\": 1570579274070}\n",
      "{\"app_id\": \"WON\", \"dev_id\": \"SMA-A42924\", \"payload_fields\": {\"hum\": 72, \"temp\": 13}, \"time\": 1570579304818}\n",
      "{\"app_id\": \"WON\", \"dev_id\": \"SMA-A42924\", \"payload_fields\": {\"hum\": 72, \"temp\": 13}, \"time\": 1570579335819}\n",
      "{\"app_id\": \"WON\", \"dev_id\": \"SMA-A42924\", \"payload_fields\": {\"hum\": 72, \"temp\": 12}, \"time\": 1570579366433}\n",
      "{\"app_id\": \"WON\", \"dev_id\": \"SMA-A42924\", \"payload_fields\": {\"hum\": 72, \"temp\": 12}, \"time\": 1570579397294}\n",
      "{\"app_id\": \"WON\", \"dev_id\": \"SMA-A42924\", \"payload_fields\": {\"hum\": 72, \"temp\": 12}, \"time\": 1570579428098}\n",
      "{\"app_id\": \"WON\", \"dev_id\": \"SMA-A42924\", \"payload_fields\": {\"hum\": 71, \"temp\": 12}, \"time\": 1570579458919}\n",
      "{\"app_id\": \"WON\", \"dev_id\": \"SMA-A42924\", \"payload_fields\": {\"hum\": 71, \"temp\": 12}, \"time\": 1570579489844}\n"
     ]
    }
   ],
   "source": [
    "!head /home/shared/WON/SMA-A42924-2019-10-09.json"
   ]
  },
  {
   "cell_type": "markdown",
   "metadata": {},
   "source": [
    "## Load raw data JSON files into a pandas DataFrame\n",
    "\n",
    "We choose to use [pandas](https://pandas.pydata.org/) DataFrame to analyse data. First, we need to install corresponding Python package."
   ]
  },
  {
   "cell_type": "code",
   "execution_count": 3,
   "metadata": {},
   "outputs": [
    {
     "name": "stdout",
     "output_type": "stream",
     "text": [
      "Requirement already up-to-date: pip in /opt/conda/lib/python3.6/site-packages (19.2.3)\n",
      "Requirement already satisfied: pandas in /opt/conda/lib/python3.6/site-packages (0.25.1)\n",
      "Requirement already satisfied: pytz>=2017.2 in /opt/conda/lib/python3.6/site-packages (from pandas) (2019.3)\n",
      "Requirement already satisfied: python-dateutil>=2.6.1 in /opt/conda/lib/python3.6/site-packages (from pandas) (2.7.3)\n",
      "Requirement already satisfied: numpy>=1.13.3 in /opt/conda/lib/python3.6/site-packages (from pandas) (1.17.2)\n",
      "Requirement already satisfied: six>=1.5 in /opt/conda/lib/python3.6/site-packages (from python-dateutil>=2.6.1->pandas) (1.11.0)\n"
     ]
    }
   ],
   "source": [
    "!pip install --upgrade pip\n",
    "!pip install pandas"
   ]
  },
  {
   "cell_type": "markdown",
   "metadata": {},
   "source": [
    "A file from the shared volume can be loaded like this with a single command."
   ]
  },
  {
   "cell_type": "code",
   "execution_count": 4,
   "metadata": {},
   "outputs": [
    {
     "data": {
      "text/html": [
       "<div>\n",
       "<style scoped>\n",
       "    .dataframe tbody tr th:only-of-type {\n",
       "        vertical-align: middle;\n",
       "    }\n",
       "\n",
       "    .dataframe tbody tr th {\n",
       "        vertical-align: top;\n",
       "    }\n",
       "\n",
       "    .dataframe thead th {\n",
       "        text-align: right;\n",
       "    }\n",
       "</style>\n",
       "<table border=\"1\" class=\"dataframe\">\n",
       "  <thead>\n",
       "    <tr style=\"text-align: right;\">\n",
       "      <th></th>\n",
       "      <th>app_id</th>\n",
       "      <th>dev_id</th>\n",
       "      <th>payload_fields</th>\n",
       "      <th>time</th>\n",
       "    </tr>\n",
       "  </thead>\n",
       "  <tbody>\n",
       "    <tr>\n",
       "      <td>0</td>\n",
       "      <td>WON</td>\n",
       "      <td>SMA-A42924</td>\n",
       "      <td>{'hum': 72, 'temp': 13}</td>\n",
       "      <td>1570579212418</td>\n",
       "    </tr>\n",
       "    <tr>\n",
       "      <td>1</td>\n",
       "      <td>WON</td>\n",
       "      <td>SMA-A42924</td>\n",
       "      <td>{'hum': 72, 'temp': 13}</td>\n",
       "      <td>1570579243368</td>\n",
       "    </tr>\n",
       "    <tr>\n",
       "      <td>2</td>\n",
       "      <td>WON</td>\n",
       "      <td>SMA-A42924</td>\n",
       "      <td>{'hum': 72, 'temp': 13}</td>\n",
       "      <td>1570579274070</td>\n",
       "    </tr>\n",
       "    <tr>\n",
       "      <td>3</td>\n",
       "      <td>WON</td>\n",
       "      <td>SMA-A42924</td>\n",
       "      <td>{'hum': 72, 'temp': 13}</td>\n",
       "      <td>1570579304818</td>\n",
       "    </tr>\n",
       "    <tr>\n",
       "      <td>4</td>\n",
       "      <td>WON</td>\n",
       "      <td>SMA-A42924</td>\n",
       "      <td>{'hum': 72, 'temp': 13}</td>\n",
       "      <td>1570579335819</td>\n",
       "    </tr>\n",
       "    <tr>\n",
       "      <td>...</td>\n",
       "      <td>...</td>\n",
       "      <td>...</td>\n",
       "      <td>...</td>\n",
       "      <td>...</td>\n",
       "    </tr>\n",
       "    <tr>\n",
       "      <td>1146</td>\n",
       "      <td>WON</td>\n",
       "      <td>SMA-A42924</td>\n",
       "      <td>{'hum': 75, 'temp': 12}</td>\n",
       "      <td>1570614518883</td>\n",
       "    </tr>\n",
       "    <tr>\n",
       "      <td>1147</td>\n",
       "      <td>WON</td>\n",
       "      <td>SMA-A42924</td>\n",
       "      <td>{'hum': 75, 'temp': 12}</td>\n",
       "      <td>1570614549685</td>\n",
       "    </tr>\n",
       "    <tr>\n",
       "      <td>1148</td>\n",
       "      <td>WON</td>\n",
       "      <td>SMA-A42924</td>\n",
       "      <td>{'hum': 75, 'temp': 12}</td>\n",
       "      <td>1570614580559</td>\n",
       "    </tr>\n",
       "    <tr>\n",
       "      <td>1149</td>\n",
       "      <td>WON</td>\n",
       "      <td>SMA-A42924</td>\n",
       "      <td>{'hum': 75, 'temp': 12}</td>\n",
       "      <td>1570614611184</td>\n",
       "    </tr>\n",
       "    <tr>\n",
       "      <td>1150</td>\n",
       "      <td>WON</td>\n",
       "      <td>SMA-A42924</td>\n",
       "      <td>{'hum': 75, 'temp': 12}</td>\n",
       "      <td>1570614642109</td>\n",
       "    </tr>\n",
       "  </tbody>\n",
       "</table>\n",
       "<p>1151 rows × 4 columns</p>\n",
       "</div>"
      ],
      "text/plain": [
       "     app_id      dev_id           payload_fields           time\n",
       "0       WON  SMA-A42924  {'hum': 72, 'temp': 13}  1570579212418\n",
       "1       WON  SMA-A42924  {'hum': 72, 'temp': 13}  1570579243368\n",
       "2       WON  SMA-A42924  {'hum': 72, 'temp': 13}  1570579274070\n",
       "3       WON  SMA-A42924  {'hum': 72, 'temp': 13}  1570579304818\n",
       "4       WON  SMA-A42924  {'hum': 72, 'temp': 13}  1570579335819\n",
       "...     ...         ...                      ...            ...\n",
       "1146    WON  SMA-A42924  {'hum': 75, 'temp': 12}  1570614518883\n",
       "1147    WON  SMA-A42924  {'hum': 75, 'temp': 12}  1570614549685\n",
       "1148    WON  SMA-A42924  {'hum': 75, 'temp': 12}  1570614580559\n",
       "1149    WON  SMA-A42924  {'hum': 75, 'temp': 12}  1570614611184\n",
       "1150    WON  SMA-A42924  {'hum': 75, 'temp': 12}  1570614642109\n",
       "\n",
       "[1151 rows x 4 columns]"
      ]
     },
     "execution_count": 4,
     "metadata": {},
     "output_type": "execute_result"
    }
   ],
   "source": [
    "import pandas as pd\n",
    "\n",
    "# Load a single JSON file into a Pandas DataFrame.\n",
    "df = pd.read_json('/home/shared/WON/SMA-A42924-2019-10-09.json', lines=True)\n",
    "\n",
    "# Show the datafame.\n",
    "df"
   ]
  },
  {
   "cell_type": "markdown",
   "metadata": {},
   "source": [
    "Multiple files can be loaded like this:"
   ]
  },
  {
   "cell_type": "code",
   "execution_count": 5,
   "metadata": {},
   "outputs": [
    {
     "data": {
      "text/html": [
       "<div>\n",
       "<style scoped>\n",
       "    .dataframe tbody tr th:only-of-type {\n",
       "        vertical-align: middle;\n",
       "    }\n",
       "\n",
       "    .dataframe tbody tr th {\n",
       "        vertical-align: top;\n",
       "    }\n",
       "\n",
       "    .dataframe thead th {\n",
       "        text-align: right;\n",
       "    }\n",
       "</style>\n",
       "<table border=\"1\" class=\"dataframe\">\n",
       "  <thead>\n",
       "    <tr style=\"text-align: right;\">\n",
       "      <th></th>\n",
       "      <th>app_id</th>\n",
       "      <th>dev_id</th>\n",
       "      <th>payload_fields</th>\n",
       "      <th>time</th>\n",
       "    </tr>\n",
       "  </thead>\n",
       "  <tbody>\n",
       "    <tr>\n",
       "      <td>0</td>\n",
       "      <td>WON</td>\n",
       "      <td>SMA-A42924</td>\n",
       "      <td>{'hum': 44, 'temp': 32}</td>\n",
       "      <td>1568736882712</td>\n",
       "    </tr>\n",
       "    <tr>\n",
       "      <td>1</td>\n",
       "      <td>WON</td>\n",
       "      <td>SMA-A42924</td>\n",
       "      <td>{'hum': 44, 'temp': 32}</td>\n",
       "      <td>1568736890062</td>\n",
       "    </tr>\n",
       "    <tr>\n",
       "      <td>2</td>\n",
       "      <td>WON</td>\n",
       "      <td>SMA-A42924</td>\n",
       "      <td>{'hum': 99, 'temp': 5}</td>\n",
       "      <td>1568739996633</td>\n",
       "    </tr>\n",
       "    <tr>\n",
       "      <td>3</td>\n",
       "      <td>WON</td>\n",
       "      <td>SMA-A42924</td>\n",
       "      <td>{'hum': 52, 'temp': 25}</td>\n",
       "      <td>1568741819847</td>\n",
       "    </tr>\n",
       "    <tr>\n",
       "      <td>4</td>\n",
       "      <td>WON</td>\n",
       "      <td>SMA-A42924</td>\n",
       "      <td>{'hum': 52, 'temp': 25}</td>\n",
       "      <td>1568741851198</td>\n",
       "    </tr>\n",
       "    <tr>\n",
       "      <td>...</td>\n",
       "      <td>...</td>\n",
       "      <td>...</td>\n",
       "      <td>...</td>\n",
       "      <td>...</td>\n",
       "    </tr>\n",
       "    <tr>\n",
       "      <td>25626</td>\n",
       "      <td>WON</td>\n",
       "      <td>SMA-A42924</td>\n",
       "      <td>{'hum': 95, 'temp': 11}</td>\n",
       "      <td>1570492671406</td>\n",
       "    </tr>\n",
       "    <tr>\n",
       "      <td>25627</td>\n",
       "      <td>WON</td>\n",
       "      <td>SMA-A42924</td>\n",
       "      <td>{'hum': 95, 'temp': 11}</td>\n",
       "      <td>1570492702231</td>\n",
       "    </tr>\n",
       "    <tr>\n",
       "      <td>25628</td>\n",
       "      <td>WON</td>\n",
       "      <td>SMA-A42924</td>\n",
       "      <td>{'hum': 95, 'temp': 11}</td>\n",
       "      <td>1570492733183</td>\n",
       "    </tr>\n",
       "    <tr>\n",
       "      <td>25629</td>\n",
       "      <td>WON</td>\n",
       "      <td>SMA-A42924</td>\n",
       "      <td>{'hum': 95, 'temp': 11}</td>\n",
       "      <td>1570492763781</td>\n",
       "    </tr>\n",
       "    <tr>\n",
       "      <td>25630</td>\n",
       "      <td>WON</td>\n",
       "      <td>SMA-A42924</td>\n",
       "      <td>{'hum': 95, 'temp': 11}</td>\n",
       "      <td>1570492794807</td>\n",
       "    </tr>\n",
       "  </tbody>\n",
       "</table>\n",
       "<p>25631 rows × 4 columns</p>\n",
       "</div>"
      ],
      "text/plain": [
       "      app_id      dev_id           payload_fields           time\n",
       "0        WON  SMA-A42924  {'hum': 44, 'temp': 32}  1568736882712\n",
       "1        WON  SMA-A42924  {'hum': 44, 'temp': 32}  1568736890062\n",
       "2        WON  SMA-A42924   {'hum': 99, 'temp': 5}  1568739996633\n",
       "3        WON  SMA-A42924  {'hum': 52, 'temp': 25}  1568741819847\n",
       "4        WON  SMA-A42924  {'hum': 52, 'temp': 25}  1568741851198\n",
       "...      ...         ...                      ...            ...\n",
       "25626    WON  SMA-A42924  {'hum': 95, 'temp': 11}  1570492671406\n",
       "25627    WON  SMA-A42924  {'hum': 95, 'temp': 11}  1570492702231\n",
       "25628    WON  SMA-A42924  {'hum': 95, 'temp': 11}  1570492733183\n",
       "25629    WON  SMA-A42924  {'hum': 95, 'temp': 11}  1570492763781\n",
       "25630    WON  SMA-A42924  {'hum': 95, 'temp': 11}  1570492794807\n",
       "\n",
       "[25631 rows x 4 columns]"
      ]
     },
     "execution_count": 5,
     "metadata": {},
     "output_type": "execute_result"
    }
   ],
   "source": [
    "import glob\n",
    "\n",
    "# List all files for project WON and device SMA-A42924.\n",
    "files = glob.glob('/home/shared/WON/SMA-A42924*')\n",
    "\n",
    "# Define an empty dataframe.\n",
    "df0 = pd.DataFrame()\n",
    "\n",
    "# Loop over all files and load them to the dataframe.\n",
    "for file in files:\n",
    "    tmp = pd.read_json(file, lines=True)\n",
    "    df0 = df0.append(tmp, ignore_index=True)\n",
    "    \n",
    "# Show the dataframe.\n",
    "df0"
   ]
  },
  {
   "cell_type": "markdown",
   "metadata": {},
   "source": [
    "The following commands may come handy for getting basic information about the dataframe."
   ]
  },
  {
   "cell_type": "code",
   "execution_count": 6,
   "metadata": {},
   "outputs": [
    {
     "name": "stdout",
     "output_type": "stream",
     "text": [
      "<class 'pandas.core.frame.DataFrame'>\n",
      "RangeIndex: 25631 entries, 0 to 25630\n",
      "Data columns (total 4 columns):\n",
      "app_id            25631 non-null object\n",
      "dev_id            25631 non-null object\n",
      "payload_fields    25631 non-null object\n",
      "time              25631 non-null int64\n",
      "dtypes: int64(1), object(3)\n",
      "memory usage: 801.1+ KB\n"
     ]
    }
   ],
   "source": [
    "df0.info()"
   ]
  },
  {
   "cell_type": "code",
   "execution_count": 7,
   "metadata": {},
   "outputs": [
    {
     "data": {
      "text/html": [
       "<div>\n",
       "<style scoped>\n",
       "    .dataframe tbody tr th:only-of-type {\n",
       "        vertical-align: middle;\n",
       "    }\n",
       "\n",
       "    .dataframe tbody tr th {\n",
       "        vertical-align: top;\n",
       "    }\n",
       "\n",
       "    .dataframe thead th {\n",
       "        text-align: right;\n",
       "    }\n",
       "</style>\n",
       "<table border=\"1\" class=\"dataframe\">\n",
       "  <thead>\n",
       "    <tr style=\"text-align: right;\">\n",
       "      <th></th>\n",
       "      <th>app_id</th>\n",
       "      <th>dev_id</th>\n",
       "      <th>payload_fields</th>\n",
       "      <th>time</th>\n",
       "    </tr>\n",
       "  </thead>\n",
       "  <tbody>\n",
       "    <tr>\n",
       "      <td>0</td>\n",
       "      <td>WON</td>\n",
       "      <td>SMA-A42924</td>\n",
       "      <td>{'hum': 44, 'temp': 32}</td>\n",
       "      <td>1568736882712</td>\n",
       "    </tr>\n",
       "    <tr>\n",
       "      <td>1</td>\n",
       "      <td>WON</td>\n",
       "      <td>SMA-A42924</td>\n",
       "      <td>{'hum': 44, 'temp': 32}</td>\n",
       "      <td>1568736890062</td>\n",
       "    </tr>\n",
       "    <tr>\n",
       "      <td>2</td>\n",
       "      <td>WON</td>\n",
       "      <td>SMA-A42924</td>\n",
       "      <td>{'hum': 99, 'temp': 5}</td>\n",
       "      <td>1568739996633</td>\n",
       "    </tr>\n",
       "    <tr>\n",
       "      <td>3</td>\n",
       "      <td>WON</td>\n",
       "      <td>SMA-A42924</td>\n",
       "      <td>{'hum': 52, 'temp': 25}</td>\n",
       "      <td>1568741819847</td>\n",
       "    </tr>\n",
       "    <tr>\n",
       "      <td>4</td>\n",
       "      <td>WON</td>\n",
       "      <td>SMA-A42924</td>\n",
       "      <td>{'hum': 52, 'temp': 25}</td>\n",
       "      <td>1568741851198</td>\n",
       "    </tr>\n",
       "  </tbody>\n",
       "</table>\n",
       "</div>"
      ],
      "text/plain": [
       "  app_id      dev_id           payload_fields           time\n",
       "0    WON  SMA-A42924  {'hum': 44, 'temp': 32}  1568736882712\n",
       "1    WON  SMA-A42924  {'hum': 44, 'temp': 32}  1568736890062\n",
       "2    WON  SMA-A42924   {'hum': 99, 'temp': 5}  1568739996633\n",
       "3    WON  SMA-A42924  {'hum': 52, 'temp': 25}  1568741819847\n",
       "4    WON  SMA-A42924  {'hum': 52, 'temp': 25}  1568741851198"
      ]
     },
     "execution_count": 7,
     "metadata": {},
     "output_type": "execute_result"
    }
   ],
   "source": [
    "# Show the first few lines of the dataframe.\n",
    "df0.head()"
   ]
  },
  {
   "cell_type": "code",
   "execution_count": 8,
   "metadata": {},
   "outputs": [
    {
     "data": {
      "text/plain": [
       "app_id            object\n",
       "dev_id            object\n",
       "payload_fields    object\n",
       "time               int64\n",
       "dtype: object"
      ]
     },
     "execution_count": 8,
     "metadata": {},
     "output_type": "execute_result"
    }
   ],
   "source": [
    "# Show the types of the columns.\n",
    "df0.dtypes"
   ]
  },
  {
   "cell_type": "markdown",
   "metadata": {},
   "source": [
    "## Simple data manipulations\n",
    "\n",
    "The dataframe we have loaded from the files in the cells above is not handy for data analytics yet. The most important values - the sensor measurements - are not easily accessible because they are all stored in a single column `payload_fields` as a dictionarly of key-value pairs. Therefore, we will reformat the dataframe such that every sensor measurement gets its own column.\n",
    "\n",
    "In the previous section, we loaded all raw data files in dataframe `df0`. In the following cell, we will create a new dataframe `df1` with the new columns."
   ]
  },
  {
   "cell_type": "code",
   "execution_count": 9,
   "metadata": {},
   "outputs": [
    {
     "data": {
      "text/html": [
       "<div>\n",
       "<style scoped>\n",
       "    .dataframe tbody tr th:only-of-type {\n",
       "        vertical-align: middle;\n",
       "    }\n",
       "\n",
       "    .dataframe tbody tr th {\n",
       "        vertical-align: top;\n",
       "    }\n",
       "\n",
       "    .dataframe thead th {\n",
       "        text-align: right;\n",
       "    }\n",
       "</style>\n",
       "<table border=\"1\" class=\"dataframe\">\n",
       "  <thead>\n",
       "    <tr style=\"text-align: right;\">\n",
       "      <th></th>\n",
       "      <th>app_id</th>\n",
       "      <th>dev_id</th>\n",
       "      <th>time</th>\n",
       "      <th>hum</th>\n",
       "      <th>temp</th>\n",
       "      <th>fail</th>\n",
       "    </tr>\n",
       "  </thead>\n",
       "  <tbody>\n",
       "    <tr>\n",
       "      <td>0</td>\n",
       "      <td>WON</td>\n",
       "      <td>SMA-A42924</td>\n",
       "      <td>1568736882712</td>\n",
       "      <td>44.0</td>\n",
       "      <td>32.0</td>\n",
       "      <td>NaN</td>\n",
       "    </tr>\n",
       "    <tr>\n",
       "      <td>1</td>\n",
       "      <td>WON</td>\n",
       "      <td>SMA-A42924</td>\n",
       "      <td>1568736890062</td>\n",
       "      <td>44.0</td>\n",
       "      <td>32.0</td>\n",
       "      <td>NaN</td>\n",
       "    </tr>\n",
       "    <tr>\n",
       "      <td>2</td>\n",
       "      <td>WON</td>\n",
       "      <td>SMA-A42924</td>\n",
       "      <td>1568739996633</td>\n",
       "      <td>99.0</td>\n",
       "      <td>5.0</td>\n",
       "      <td>NaN</td>\n",
       "    </tr>\n",
       "    <tr>\n",
       "      <td>3</td>\n",
       "      <td>WON</td>\n",
       "      <td>SMA-A42924</td>\n",
       "      <td>1568741819847</td>\n",
       "      <td>52.0</td>\n",
       "      <td>25.0</td>\n",
       "      <td>NaN</td>\n",
       "    </tr>\n",
       "    <tr>\n",
       "      <td>4</td>\n",
       "      <td>WON</td>\n",
       "      <td>SMA-A42924</td>\n",
       "      <td>1568741851198</td>\n",
       "      <td>52.0</td>\n",
       "      <td>25.0</td>\n",
       "      <td>NaN</td>\n",
       "    </tr>\n",
       "    <tr>\n",
       "      <td>...</td>\n",
       "      <td>...</td>\n",
       "      <td>...</td>\n",
       "      <td>...</td>\n",
       "      <td>...</td>\n",
       "      <td>...</td>\n",
       "      <td>...</td>\n",
       "    </tr>\n",
       "    <tr>\n",
       "      <td>25626</td>\n",
       "      <td>WON</td>\n",
       "      <td>SMA-A42924</td>\n",
       "      <td>1570492671406</td>\n",
       "      <td>95.0</td>\n",
       "      <td>11.0</td>\n",
       "      <td>NaN</td>\n",
       "    </tr>\n",
       "    <tr>\n",
       "      <td>25627</td>\n",
       "      <td>WON</td>\n",
       "      <td>SMA-A42924</td>\n",
       "      <td>1570492702231</td>\n",
       "      <td>95.0</td>\n",
       "      <td>11.0</td>\n",
       "      <td>NaN</td>\n",
       "    </tr>\n",
       "    <tr>\n",
       "      <td>25628</td>\n",
       "      <td>WON</td>\n",
       "      <td>SMA-A42924</td>\n",
       "      <td>1570492733183</td>\n",
       "      <td>95.0</td>\n",
       "      <td>11.0</td>\n",
       "      <td>NaN</td>\n",
       "    </tr>\n",
       "    <tr>\n",
       "      <td>25629</td>\n",
       "      <td>WON</td>\n",
       "      <td>SMA-A42924</td>\n",
       "      <td>1570492763781</td>\n",
       "      <td>95.0</td>\n",
       "      <td>11.0</td>\n",
       "      <td>NaN</td>\n",
       "    </tr>\n",
       "    <tr>\n",
       "      <td>25630</td>\n",
       "      <td>WON</td>\n",
       "      <td>SMA-A42924</td>\n",
       "      <td>1570492794807</td>\n",
       "      <td>95.0</td>\n",
       "      <td>11.0</td>\n",
       "      <td>NaN</td>\n",
       "    </tr>\n",
       "  </tbody>\n",
       "</table>\n",
       "<p>25631 rows × 6 columns</p>\n",
       "</div>"
      ],
      "text/plain": [
       "      app_id      dev_id           time   hum  temp  fail\n",
       "0        WON  SMA-A42924  1568736882712  44.0  32.0   NaN\n",
       "1        WON  SMA-A42924  1568736890062  44.0  32.0   NaN\n",
       "2        WON  SMA-A42924  1568739996633  99.0   5.0   NaN\n",
       "3        WON  SMA-A42924  1568741819847  52.0  25.0   NaN\n",
       "4        WON  SMA-A42924  1568741851198  52.0  25.0   NaN\n",
       "...      ...         ...            ...   ...   ...   ...\n",
       "25626    WON  SMA-A42924  1570492671406  95.0  11.0   NaN\n",
       "25627    WON  SMA-A42924  1570492702231  95.0  11.0   NaN\n",
       "25628    WON  SMA-A42924  1570492733183  95.0  11.0   NaN\n",
       "25629    WON  SMA-A42924  1570492763781  95.0  11.0   NaN\n",
       "25630    WON  SMA-A42924  1570492794807  95.0  11.0   NaN\n",
       "\n",
       "[25631 rows x 6 columns]"
      ]
     },
     "execution_count": 9,
     "metadata": {},
     "output_type": "execute_result"
    }
   ],
   "source": [
    "# Extract payload_fields as individual cloumns.\n",
    "payload_fields = df0['payload_fields'].apply(pd.Series)\n",
    "\n",
    "# Add the new columns to the dataframe.\n",
    "df1 = df0.join(payload_fields)\n",
    "\n",
    "# Remove the original column.\n",
    "df1 = df1.drop('payload_fields', axis=1)\n",
    "\n",
    "# Show the dataframe.\n",
    "df1"
   ]
  },
  {
   "cell_type": "code",
   "execution_count": 10,
   "metadata": {},
   "outputs": [
    {
     "data": {
      "text/plain": [
       "app_id     object\n",
       "dev_id     object\n",
       "time        int64\n",
       "hum       float64\n",
       "temp      float64\n",
       "fail      float64\n",
       "dtype: object"
      ]
     },
     "execution_count": 10,
     "metadata": {},
     "output_type": "execute_result"
    }
   ],
   "source": [
    "# Show the column types.\n",
    "df1.dtypes"
   ]
  },
  {
   "cell_type": "markdown",
   "metadata": {},
   "source": [
    "Convert the unix epoch time to human-readable time format."
   ]
  },
  {
   "cell_type": "code",
   "execution_count": 11,
   "metadata": {},
   "outputs": [
    {
     "data": {
      "text/plain": [
       "0       2019-09-17 16:14:42.712\n",
       "1       2019-09-17 16:14:50.062\n",
       "2       2019-09-17 17:06:36.633\n",
       "3       2019-09-17 17:36:59.847\n",
       "4       2019-09-17 17:37:31.198\n",
       "                  ...          \n",
       "25626   2019-10-07 23:57:51.406\n",
       "25627   2019-10-07 23:58:22.231\n",
       "25628   2019-10-07 23:58:53.183\n",
       "25629   2019-10-07 23:59:23.781\n",
       "25630   2019-10-07 23:59:54.807\n",
       "Name: datetime, Length: 25631, dtype: datetime64[ns]"
      ]
     },
     "execution_count": 11,
     "metadata": {},
     "output_type": "execute_result"
    }
   ],
   "source": [
    "df1[\"datetime\"] = pd.to_datetime(df1[\"time\"], unit='ms')\n",
    "df1[\"datetime\"]"
   ]
  },
  {
   "cell_type": "markdown",
   "metadata": {},
   "source": [
    "## Data inspection\n",
    "\n",
    "In the previous section, we created dataframe `df1` that is convenient for analysis/inspection.\n",
    "\n",
    "Show basic statistics for the data in numeric columns."
   ]
  },
  {
   "cell_type": "code",
   "execution_count": 12,
   "metadata": {},
   "outputs": [
    {
     "data": {
      "text/html": [
       "<div>\n",
       "<style scoped>\n",
       "    .dataframe tbody tr th:only-of-type {\n",
       "        vertical-align: middle;\n",
       "    }\n",
       "\n",
       "    .dataframe tbody tr th {\n",
       "        vertical-align: top;\n",
       "    }\n",
       "\n",
       "    .dataframe thead th {\n",
       "        text-align: right;\n",
       "    }\n",
       "</style>\n",
       "<table border=\"1\" class=\"dataframe\">\n",
       "  <thead>\n",
       "    <tr style=\"text-align: right;\">\n",
       "      <th></th>\n",
       "      <th>time</th>\n",
       "      <th>hum</th>\n",
       "      <th>temp</th>\n",
       "      <th>fail</th>\n",
       "    </tr>\n",
       "  </thead>\n",
       "  <tbody>\n",
       "    <tr>\n",
       "      <td>count</td>\n",
       "      <td>2.563100e+04</td>\n",
       "      <td>25627.000000</td>\n",
       "      <td>25627.000000</td>\n",
       "      <td>4.0</td>\n",
       "    </tr>\n",
       "    <tr>\n",
       "      <td>mean</td>\n",
       "      <td>1.569696e+12</td>\n",
       "      <td>64.998049</td>\n",
       "      <td>17.633941</td>\n",
       "      <td>1.0</td>\n",
       "    </tr>\n",
       "    <tr>\n",
       "      <td>std</td>\n",
       "      <td>6.766886e+08</td>\n",
       "      <td>12.122427</td>\n",
       "      <td>6.549498</td>\n",
       "      <td>0.0</td>\n",
       "    </tr>\n",
       "    <tr>\n",
       "      <td>min</td>\n",
       "      <td>1.568737e+12</td>\n",
       "      <td>44.000000</td>\n",
       "      <td>5.000000</td>\n",
       "      <td>1.0</td>\n",
       "    </tr>\n",
       "    <tr>\n",
       "      <td>25%</td>\n",
       "      <td>1.569084e+12</td>\n",
       "      <td>55.000000</td>\n",
       "      <td>11.000000</td>\n",
       "      <td>1.0</td>\n",
       "    </tr>\n",
       "    <tr>\n",
       "      <td>50%</td>\n",
       "      <td>1.569282e+12</td>\n",
       "      <td>61.000000</td>\n",
       "      <td>22.000000</td>\n",
       "      <td>1.0</td>\n",
       "    </tr>\n",
       "    <tr>\n",
       "      <td>75%</td>\n",
       "      <td>1.570417e+12</td>\n",
       "      <td>75.000000</td>\n",
       "      <td>23.000000</td>\n",
       "      <td>1.0</td>\n",
       "    </tr>\n",
       "    <tr>\n",
       "      <td>max</td>\n",
       "      <td>1.570615e+12</td>\n",
       "      <td>99.000000</td>\n",
       "      <td>255.000000</td>\n",
       "      <td>1.0</td>\n",
       "    </tr>\n",
       "  </tbody>\n",
       "</table>\n",
       "</div>"
      ],
      "text/plain": [
       "               time           hum          temp  fail\n",
       "count  2.563100e+04  25627.000000  25627.000000   4.0\n",
       "mean   1.569696e+12     64.998049     17.633941   1.0\n",
       "std    6.766886e+08     12.122427      6.549498   0.0\n",
       "min    1.568737e+12     44.000000      5.000000   1.0\n",
       "25%    1.569084e+12     55.000000     11.000000   1.0\n",
       "50%    1.569282e+12     61.000000     22.000000   1.0\n",
       "75%    1.570417e+12     75.000000     23.000000   1.0\n",
       "max    1.570615e+12     99.000000    255.000000   1.0"
      ]
     },
     "execution_count": 12,
     "metadata": {},
     "output_type": "execute_result"
    }
   ],
   "source": [
    "df1.describe()"
   ]
  },
  {
   "cell_type": "markdown",
   "metadata": {},
   "source": [
    "Show the messages with `fail` = 1."
   ]
  },
  {
   "cell_type": "code",
   "execution_count": 13,
   "metadata": {},
   "outputs": [
    {
     "data": {
      "text/html": [
       "<div>\n",
       "<style scoped>\n",
       "    .dataframe tbody tr th:only-of-type {\n",
       "        vertical-align: middle;\n",
       "    }\n",
       "\n",
       "    .dataframe tbody tr th {\n",
       "        vertical-align: top;\n",
       "    }\n",
       "\n",
       "    .dataframe thead th {\n",
       "        text-align: right;\n",
       "    }\n",
       "</style>\n",
       "<table border=\"1\" class=\"dataframe\">\n",
       "  <thead>\n",
       "    <tr style=\"text-align: right;\">\n",
       "      <th></th>\n",
       "      <th>app_id</th>\n",
       "      <th>dev_id</th>\n",
       "      <th>time</th>\n",
       "      <th>hum</th>\n",
       "      <th>temp</th>\n",
       "      <th>fail</th>\n",
       "      <th>datetime</th>\n",
       "    </tr>\n",
       "  </thead>\n",
       "  <tbody>\n",
       "    <tr>\n",
       "      <td>8681</td>\n",
       "      <td>WON</td>\n",
       "      <td>SMA-A42924</td>\n",
       "      <td>1568988788323</td>\n",
       "      <td>NaN</td>\n",
       "      <td>NaN</td>\n",
       "      <td>1.0</td>\n",
       "      <td>2019-09-20 14:13:08.323</td>\n",
       "    </tr>\n",
       "    <tr>\n",
       "      <td>8700</td>\n",
       "      <td>WON</td>\n",
       "      <td>SMA-A42924</td>\n",
       "      <td>1568989380951</td>\n",
       "      <td>NaN</td>\n",
       "      <td>NaN</td>\n",
       "      <td>1.0</td>\n",
       "      <td>2019-09-20 14:23:00.951</td>\n",
       "    </tr>\n",
       "    <tr>\n",
       "      <td>8701</td>\n",
       "      <td>WON</td>\n",
       "      <td>SMA-A42924</td>\n",
       "      <td>1568989419198</td>\n",
       "      <td>NaN</td>\n",
       "      <td>NaN</td>\n",
       "      <td>1.0</td>\n",
       "      <td>2019-09-20 14:23:39.198</td>\n",
       "    </tr>\n",
       "    <tr>\n",
       "      <td>8702</td>\n",
       "      <td>WON</td>\n",
       "      <td>SMA-A42924</td>\n",
       "      <td>1568989457398</td>\n",
       "      <td>NaN</td>\n",
       "      <td>NaN</td>\n",
       "      <td>1.0</td>\n",
       "      <td>2019-09-20 14:24:17.398</td>\n",
       "    </tr>\n",
       "  </tbody>\n",
       "</table>\n",
       "</div>"
      ],
      "text/plain": [
       "     app_id      dev_id           time  hum  temp  fail  \\\n",
       "8681    WON  SMA-A42924  1568988788323  NaN   NaN   1.0   \n",
       "8700    WON  SMA-A42924  1568989380951  NaN   NaN   1.0   \n",
       "8701    WON  SMA-A42924  1568989419198  NaN   NaN   1.0   \n",
       "8702    WON  SMA-A42924  1568989457398  NaN   NaN   1.0   \n",
       "\n",
       "                    datetime  \n",
       "8681 2019-09-20 14:13:08.323  \n",
       "8700 2019-09-20 14:23:00.951  \n",
       "8701 2019-09-20 14:23:39.198  \n",
       "8702 2019-09-20 14:24:17.398  "
      ]
     },
     "execution_count": 13,
     "metadata": {},
     "output_type": "execute_result"
    }
   ],
   "source": [
    "df1[df1[\"fail\"] == 1]"
   ]
  },
  {
   "cell_type": "markdown",
   "metadata": {},
   "source": [
    "Remove the messages with `fail` = 1."
   ]
  },
  {
   "cell_type": "code",
   "execution_count": 14,
   "metadata": {},
   "outputs": [],
   "source": [
    "df2 = df1[df1[\"fail\"] != 1]"
   ]
  },
  {
   "cell_type": "markdown",
   "metadata": {},
   "source": [
    "## Data visualisations\n",
    "\n",
    "We choose to use [matplotlib](https://matplotlib.org/) to analyse data. First, we need to install corresponding Python package."
   ]
  },
  {
   "cell_type": "code",
   "execution_count": 15,
   "metadata": {},
   "outputs": [
    {
     "name": "stdout",
     "output_type": "stream",
     "text": [
      "Requirement already satisfied: matplotlib in /opt/conda/lib/python3.6/site-packages (3.1.1)\n",
      "Requirement already satisfied: cycler>=0.10 in /opt/conda/lib/python3.6/site-packages (from matplotlib) (0.10.0)\n",
      "Requirement already satisfied: pyparsing!=2.0.4,!=2.1.2,!=2.1.6,>=2.0.1 in /opt/conda/lib/python3.6/site-packages (from matplotlib) (2.4.2)\n",
      "Requirement already satisfied: python-dateutil>=2.1 in /opt/conda/lib/python3.6/site-packages (from matplotlib) (2.7.3)\n",
      "Requirement already satisfied: kiwisolver>=1.0.1 in /opt/conda/lib/python3.6/site-packages (from matplotlib) (1.1.0)\n",
      "Requirement already satisfied: numpy>=1.11 in /opt/conda/lib/python3.6/site-packages (from matplotlib) (1.17.2)\n",
      "Requirement already satisfied: six in /opt/conda/lib/python3.6/site-packages (from cycler>=0.10->matplotlib) (1.11.0)\n",
      "Requirement already satisfied: setuptools in /opt/conda/lib/python3.6/site-packages (from kiwisolver>=1.0.1->matplotlib) (40.0.0)\n"
     ]
    }
   ],
   "source": [
    "!pip install matplotlib"
   ]
  },
  {
   "cell_type": "markdown",
   "metadata": {},
   "source": [
    "Make sure the plots will be produced directly in the notebook."
   ]
  },
  {
   "cell_type": "code",
   "execution_count": 16,
   "metadata": {},
   "outputs": [],
   "source": [
    "%matplotlib inline"
   ]
  },
  {
   "cell_type": "markdown",
   "metadata": {},
   "source": [
    "Plot histograms."
   ]
  },
  {
   "cell_type": "code",
   "execution_count": 17,
   "metadata": {},
   "outputs": [
    {
     "data": {
      "text/plain": [
       "<matplotlib.axes._subplots.AxesSubplot at 0x7f1a8c668a90>"
      ]
     },
     "execution_count": 17,
     "metadata": {},
     "output_type": "execute_result"
    },
    {
     "data": {
      "image/png": "[encoded data removed]",
      "text/plain": [
       "<Figure size 432x288 with 1 Axes>"
      ]
     },
     "metadata": {},
     "output_type": "display_data"
    }
   ],
   "source": [
    "df2[\"hum\"].hist()"
   ]
  },
  {
   "cell_type": "code",
   "execution_count": 18,
   "metadata": {},
   "outputs": [
    {
     "data": {
      "text/plain": [
       "<matplotlib.axes._subplots.AxesSubplot at 0x7f1ab55b8fd0>"
      ]
     },
     "execution_count": 18,
     "metadata": {},
     "output_type": "execute_result"
    },
    {
     "data": {
      "image/png": "[encoded data removed]",
      "text/plain": [
       "<Figure size 432x288 with 1 Axes>"
      ]
     },
     "metadata": {},
     "output_type": "display_data"
    }
   ],
   "source": [
    "df2[\"temp\"].hist()"
   ]
  },
  {
   "cell_type": "markdown",
   "metadata": {},
   "source": [
    "The temperature histogram indicates there are outliers. This will become obvious in a histogram with logarithmic y-axis."
   ]
  },
  {
   "cell_type": "code",
   "execution_count": 19,
   "metadata": {},
   "outputs": [
    {
     "data": {
      "text/plain": [
       "(array([2.5623e+04, 3.0000e+00, 0.0000e+00, 0.0000e+00, 0.0000e+00,\n",
       "        0.0000e+00, 0.0000e+00, 0.0000e+00, 0.0000e+00, 1.0000e+00]),\n",
       " array([  5.,  30.,  55.,  80., 105., 130., 155., 180., 205., 230., 255.]),\n",
       " <a list of 10 Patch objects>)"
      ]
     },
     "execution_count": 19,
     "metadata": {},
     "output_type": "execute_result"
    },
    {
     "data": {
      "image/png": "[encoded data removed]",
      "text/plain": [
       "<Figure size 432x288 with 1 Axes>"
      ]
     },
     "metadata": {},
     "output_type": "display_data"
    }
   ],
   "source": [
    "import matplotlib.pyplot as plt\n",
    "\n",
    "plt.hist(df2['temp'], log=True) "
   ]
  },
  {
   "cell_type": "markdown",
   "metadata": {},
   "source": [
    "Box plots are also useful."
   ]
  },
  {
   "cell_type": "code",
   "execution_count": 20,
   "metadata": {},
   "outputs": [
    {
     "data": {
      "text/plain": [
       "<matplotlib.axes._subplots.AxesSubplot at 0x7f1a8b9d3400>"
      ]
     },
     "execution_count": 20,
     "metadata": {},
     "output_type": "execute_result"
    },
    {
     "data": {
      "image/png": "[encoded data removed]",
      "text/plain": [
       "<Figure size 432x288 with 1 Axes>"
      ]
     },
     "metadata": {},
     "output_type": "display_data"
    }
   ],
   "source": [
    "df2[[\"hum\", \"temp\"]].plot.box()"
   ]
  },
  {
   "cell_type": "markdown",
   "metadata": {},
   "source": [
    "Remove outliers."
   ]
  },
  {
   "cell_type": "code",
   "execution_count": 21,
   "metadata": {},
   "outputs": [],
   "source": [
    "df3 = df2[df2[\"temp\"] < 100]"
   ]
  },
  {
   "cell_type": "code",
   "execution_count": 22,
   "metadata": {},
   "outputs": [
    {
     "data": {
      "text/plain": [
       "<matplotlib.axes._subplots.AxesSubplot at 0x7f1a8b952208>"
      ]
     },
     "execution_count": 22,
     "metadata": {},
     "output_type": "execute_result"
    },
    {
     "data": {
      "image/png": "[encoded data removed]",
      "text/plain": [
       "<Figure size 432x288 with 1 Axes>"
      ]
     },
     "metadata": {},
     "output_type": "display_data"
    }
   ],
   "source": [
    "df3.plot(x=\"datetime\", y=\"temp\")"
   ]
  },
  {
   "cell_type": "markdown",
   "metadata": {},
   "source": [
    "## Store results in the project volume\n",
    "\n",
    "Save the plot as a pdf file. The file can be downloaded from the file browser on the left."
   ]
  },
  {
   "cell_type": "code",
   "execution_count": 23,
   "metadata": {},
   "outputs": [
    {
     "data": {
      "image/png": "[encoded data removed]",
      "text/plain": [
       "<Figure size 432x288 with 1 Axes>"
      ]
     },
     "metadata": {},
     "output_type": "display_data"
    }
   ],
   "source": [
    "plot = df3.plot(x=\"datetime\", y=\"hum\")\n",
    "plot.get_figure().savefig('hum.pdf', format='pdf')"
   ]
  },
  {
   "cell_type": "code",
   "execution_count": null,
   "metadata": {},
   "outputs": [],
   "source": []
  }
 ],
 "metadata": {
  "kernelspec": {
   "display_name": "Python 3",
   "language": "python",
   "name": "python3"
  },
  "language_info": {
   "codemirror_mode": {
    "name": "ipython",
    "version": 3
   },
   "file_extension": ".py",
   "mimetype": "text/x-python",
   "name": "python",
   "nbconvert_exporter": "python",
   "pygments_lexer": "ipython3",
   "version": "3.6.5"
  }
 },
 "nbformat": 4,
 "nbformat_minor": 2
}
